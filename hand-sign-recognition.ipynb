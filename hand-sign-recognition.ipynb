{
 "cells": [
  {
   "cell_type": "code",
   "execution_count": 1,
   "id": "e0d996e9",
   "metadata": {},
   "outputs": [],
   "source": [
    "import numpy as np\n",
    "import pandas as pd\n",
    "import tensorflow as tf\n",
    "from keras.preprocessing.image import ImageDataGenerator"
   ]
  },
  {
   "cell_type": "markdown",
   "id": "9218c438",
   "metadata": {},
   "source": [
    "## Prepropcessing"
   ]
  },
  {
   "cell_type": "code",
   "execution_count": 2,
   "id": "e888d615",
   "metadata": {},
   "outputs": [
    {
     "name": "stdout",
     "output_type": "stream",
     "text": [
      "Found 34368 images belonging to 35 classes.\n"
     ]
    }
   ],
   "source": [
    "# Training Set\n",
    "train_datagen = ImageDataGenerator(\n",
    "        rescale = 1./255,\n",
    "        shear_range = 0.2,\n",
    "        zoom_range = 0.2,\n",
    "        horizontal_flip = True\n",
    ")\n",
    "\n",
    "training_set = train_datagen.flow_from_directory(\n",
    "        'Datasets/training_set',\n",
    "        target_size = (64, 64),\n",
    "        batch_size = 32,\n",
    "        class_mode = 'categorical'\n",
    "    )"
   ]
  },
  {
   "cell_type": "code",
   "execution_count": 3,
   "id": "9fa13c50",
   "metadata": {},
   "outputs": [
    {
     "name": "stdout",
     "output_type": "stream",
     "text": [
      "Found 8377 images belonging to 35 classes.\n"
     ]
    }
   ],
   "source": [
    "# Test Set\n",
    "test_datagen = ImageDataGenerator(\n",
    "            rescale = 1./255,\n",
    ")\n",
    "\n",
    "test_set = test_datagen.flow_from_directory(\n",
    "        'Datasets/test_set',\n",
    "        target_size = (64, 64),\n",
    "        batch_size = 32,\n",
    "        class_mode = 'categorical'\n",
    ")"
   ]
  },
  {
   "cell_type": "markdown",
   "id": "2a630b57",
   "metadata": {},
   "source": [
    "## Building the CNN"
   ]
  },
  {
   "cell_type": "code",
   "execution_count": 4,
   "id": "8d2371bf",
   "metadata": {},
   "outputs": [],
   "source": [
    "cnn = tf.keras.models.Sequential()"
   ]
  },
  {
   "cell_type": "code",
   "execution_count": 5,
   "id": "a4b91be3",
   "metadata": {},
   "outputs": [],
   "source": [
    "cnn.add(tf.keras.layers.Conv2D(filters = 32, kernel_size = 3, activation = 'relu', input_shape = [64, 64, 3]))"
   ]
  },
  {
   "cell_type": "code",
   "execution_count": 6,
   "id": "4f5d03be",
   "metadata": {},
   "outputs": [],
   "source": [
    "cnn.add(tf.keras.layers.MaxPool2D(pool_size  = 2, strides = 2))"
   ]
  },
  {
   "cell_type": "code",
   "execution_count": 7,
   "id": "4852c38e",
   "metadata": {},
   "outputs": [],
   "source": [
    "cnn.add(tf.keras.layers.Conv2D(filters = 32, kernel_size = 3, activation = 'relu'))\n",
    "cnn.add(tf.keras.layers.MaxPool2D(pool_size = 2, strides = 2))"
   ]
  },
  {
   "cell_type": "markdown",
   "id": "aba4d9e5",
   "metadata": {},
   "source": [
    "### Full Connection"
   ]
  },
  {
   "cell_type": "code",
   "execution_count": 8,
   "id": "b475cb0a",
   "metadata": {},
   "outputs": [],
   "source": [
    "cnn.add(tf.keras.layers.Flatten())"
   ]
  },
  {
   "cell_type": "markdown",
   "id": "74c4468b",
   "metadata": {},
   "source": [
    "### Hidden Layers"
   ]
  },
  {
   "cell_type": "code",
   "execution_count": 9,
   "id": "ec3b231d",
   "metadata": {},
   "outputs": [],
   "source": [
    "cnn.add(tf.keras.layers.Dense(units = 110, activation = 'relu'))"
   ]
  },
  {
   "cell_type": "code",
   "execution_count": 10,
   "id": "05d7edeb",
   "metadata": {},
   "outputs": [],
   "source": [
    "cnn.add(tf.keras.layers.Dense(units = 64, activation = 'relu'))"
   ]
  },
  {
   "cell_type": "markdown",
   "id": "0a8c90ad",
   "metadata": {},
   "source": [
    "### Output Layer"
   ]
  },
  {
   "cell_type": "code",
   "execution_count": 11,
   "id": "977e1c63",
   "metadata": {},
   "outputs": [],
   "source": [
    "cnn.add(tf.keras.layers.Dense(units = 35, activation = 'softmax'))"
   ]
  },
  {
   "cell_type": "code",
   "execution_count": 12,
   "id": "9e48e7a7",
   "metadata": {},
   "outputs": [],
   "source": [
    "cnn.compile(optimizer='adam', loss='categorical_crossentropy', metrics=['accuracy'])"
   ]
  },
  {
   "cell_type": "code",
   "execution_count": 13,
   "id": "457c5175",
   "metadata": {},
   "outputs": [
    {
     "name": "stdout",
     "output_type": "stream",
     "text": [
      "Epoch 1/20\n",
      "1074/1074 [==============================] - 121s 112ms/step - loss: 0.1805 - accuracy: 0.9528 - val_loss: 0.1489 - val_accuracy: 0.9588\n",
      "Epoch 2/20\n",
      "1074/1074 [==============================] - 120s 112ms/step - loss: 0.0113 - accuracy: 0.9967 - val_loss: 0.2195 - val_accuracy: 0.9639\n",
      "Epoch 3/20\n",
      "1074/1074 [==============================] - 122s 113ms/step - loss: 0.0098 - accuracy: 0.9976 - val_loss: 0.2357 - val_accuracy: 0.9606\n",
      "Epoch 4/20\n",
      "1074/1074 [==============================] - 119s 111ms/step - loss: 0.0025 - accuracy: 0.9992 - val_loss: 0.0828 - val_accuracy: 0.9813\n",
      "Epoch 5/20\n",
      "1074/1074 [==============================] - 117s 108ms/step - loss: 0.0049 - accuracy: 0.9987 - val_loss: 0.1534 - val_accuracy: 0.9710\n",
      "Epoch 6/20\n",
      "1074/1074 [==============================] - 116s 108ms/step - loss: 0.0046 - accuracy: 0.9988 - val_loss: 0.1243 - val_accuracy: 0.9719\n",
      "Epoch 7/20\n",
      "1074/1074 [==============================] - 110s 103ms/step - loss: 7.6884e-04 - accuracy: 0.9998 - val_loss: 0.0725 - val_accuracy: 0.9826\n",
      "Epoch 8/20\n",
      "1074/1074 [==============================] - 112s 104ms/step - loss: 0.0056 - accuracy: 0.9986 - val_loss: 0.1146 - val_accuracy: 0.9745\n",
      "Epoch 9/20\n",
      "1074/1074 [==============================] - 116s 108ms/step - loss: 5.3666e-04 - accuracy: 0.9998 - val_loss: 0.1657 - val_accuracy: 0.9719\n",
      "Epoch 10/20\n",
      "1074/1074 [==============================] - 113s 105ms/step - loss: 0.0043 - accuracy: 0.9990 - val_loss: 0.0962 - val_accuracy: 0.9816\n",
      "Epoch 11/20\n",
      "1074/1074 [==============================] - 112s 105ms/step - loss: 4.2918e-04 - accuracy: 0.9999 - val_loss: 0.1271 - val_accuracy: 0.9773\n",
      "Epoch 12/20\n",
      "1074/1074 [==============================] - 111s 103ms/step - loss: 0.0042 - accuracy: 0.9989 - val_loss: 0.1713 - val_accuracy: 0.9760\n",
      "Epoch 13/20\n",
      "1074/1074 [==============================] - 112s 104ms/step - loss: 3.1207e-04 - accuracy: 0.9999 - val_loss: 0.1740 - val_accuracy: 0.9765\n",
      "Epoch 14/20\n",
      "1074/1074 [==============================] - 112s 105ms/step - loss: 0.0033 - accuracy: 0.9992 - val_loss: 0.2016 - val_accuracy: 0.9736\n",
      "Epoch 15/20\n",
      "1074/1074 [==============================] - 111s 104ms/step - loss: 7.0647e-04 - accuracy: 0.9998 - val_loss: 0.1092 - val_accuracy: 0.9819\n",
      "Epoch 16/20\n",
      "1074/1074 [==============================] - 113s 105ms/step - loss: 2.6106e-04 - accuracy: 0.9999 - val_loss: 0.1540 - val_accuracy: 0.9614\n",
      "Epoch 17/20\n",
      "1074/1074 [==============================] - 113s 105ms/step - loss: 0.0033 - accuracy: 0.9992 - val_loss: 0.1004 - val_accuracy: 0.9836\n",
      "Epoch 18/20\n",
      "1074/1074 [==============================] - 113s 105ms/step - loss: 0.0010 - accuracy: 0.9998 - val_loss: 0.0674 - val_accuracy: 0.9851\n",
      "Epoch 19/20\n",
      "1074/1074 [==============================] - 113s 105ms/step - loss: 5.4539e-04 - accuracy: 0.9998 - val_loss: 0.0727 - val_accuracy: 0.9862\n",
      "Epoch 20/20\n",
      "1074/1074 [==============================] - 112s 104ms/step - loss: 0.0021 - accuracy: 0.9995 - val_loss: 0.0776 - val_accuracy: 0.9847\n"
     ]
    },
    {
     "data": {
      "text/plain": [
       "<keras.callbacks.History at 0x19035467e80>"
      ]
     },
     "execution_count": 13,
     "metadata": {},
     "output_type": "execute_result"
    }
   ],
   "source": [
    "cnn.fit(x = training_set, validation_data = test_set, epochs = 20)"
   ]
  },
  {
   "cell_type": "code",
   "execution_count": 24,
   "id": "be86d7c4",
   "metadata": {},
   "outputs": [],
   "source": [
    "import numpy as np\n",
    "from keras.preprocessing import image"
   ]
  },
  {
   "cell_type": "code",
   "execution_count": 34,
   "id": "e3d91943",
   "metadata": {},
   "outputs": [
    {
     "data": {
      "text/plain": [
       "{'1': 0,\n",
       " '2': 1,\n",
       " '3': 2,\n",
       " '4': 3,\n",
       " '5': 4,\n",
       " '6': 5,\n",
       " '7': 6,\n",
       " '8': 7,\n",
       " '9': 8,\n",
       " 'A': 9,\n",
       " 'B': 10,\n",
       " 'C': 11,\n",
       " 'D': 12,\n",
       " 'E': 13,\n",
       " 'F': 14,\n",
       " 'G': 15,\n",
       " 'H': 16,\n",
       " 'I': 17,\n",
       " 'J': 18,\n",
       " 'K': 19,\n",
       " 'L': 20,\n",
       " 'M': 21,\n",
       " 'N': 22,\n",
       " 'O': 23,\n",
       " 'P': 24,\n",
       " 'Q': 25,\n",
       " 'R': 26,\n",
       " 'S': 27,\n",
       " 'T': 28,\n",
       " 'U': 29,\n",
       " 'V': 30,\n",
       " 'W': 31,\n",
       " 'X': 32,\n",
       " 'Y': 33,\n",
       " 'Z': 34}"
      ]
     },
     "execution_count": 34,
     "metadata": {},
     "output_type": "execute_result"
    }
   ],
   "source": [
    "test_image = image.load_img(\n",
    "    'Datasets\\single_prediction\\letter_F.jpg',\n",
    "    target_size = (64,64)\n",
    ")\n",
    "test_image = image.img_to_array(test_image)\n",
    "test_image = np.expand_dims(test_image, axis = 0)\n",
    "result = cnn.predict(test_image)\n",
    "training_set.class_indices"
   ]
  },
  {
   "cell_type": "code",
   "execution_count": 33,
   "id": "bff9b8de",
   "metadata": {},
   "outputs": [
    {
     "name": "stdout",
     "output_type": "stream",
     "text": [
      "The sign is of : F\n"
     ]
    }
   ],
   "source": [
    "for i in range(0,35):\n",
    "    if(result[0][i] == 1):\n",
    "        index = i\n",
    "        \n",
    "if index <= 8:\n",
    "    print('The sign is of : ' +